{
 "cells": [
  {
   "cell_type": "markdown",
   "id": "829210bb-d690-4f60-8034-c774fee1cd70",
   "metadata": {},
   "source": [
    "# Get bathymetry/backscatter data without downloading data locally to computer"
   ]
  },
  {
   "cell_type": "code",
   "execution_count": 1,
   "id": "20ed6818-13c5-41a1-9f7b-0ea54c51aa57",
   "metadata": {
    "tags": []
   },
   "outputs": [],
   "source": [
    "import shutil, os, html, requests"
   ]
  },
  {
   "cell_type": "code",
   "execution_count": 2,
   "id": "aa87b080-bcd6-407f-98bd-d0b99f39c2c4",
   "metadata": {
    "tags": []
   },
   "outputs": [],
   "source": [
    "def download_file(url):\n",
    "    local_filename = os.path.join('data',url.split('/')[-1])\n",
    "    with requests.get(url, stream=True) as r:\n",
    "        with open(local_filename, 'wb') as f:\n",
    "            shutil.copyfileobj(r.raw, f)\n",
    "\n",
    "    return local_filename"
   ]
  },
  {
   "cell_type": "markdown",
   "id": "1b13751a-ce85-4f9e-9cc8-48c0a2c3e150",
   "metadata": {},
   "source": [
    "For bathymetry data (25m): (damaged zip file?)"
   ]
  },
  {
   "cell_type": "code",
   "execution_count": 11,
   "id": "f92a57d8-309f-49e6-9910-d676d25a3405",
   "metadata": {
    "tags": []
   },
   "outputs": [
    {
     "data": {
      "text/plain": [
       "'data/IE_GSI_MI_Bathymetry_25m_IE_Waters_WGS84_LAT_TIFF.zip'"
      ]
     },
     "execution_count": 11,
     "metadata": {},
     "output_type": "execute_result"
    }
   ],
   "source": [
    "download_file('https://gsi.geodata.gov.ie/downloads/Marine/Data/Downloads/LatestEntireAreaMerge/IE_GSI_MI_Bathymetry_25m_IE_Waters_WGS84_LAT_TIFF.zip')"
   ]
  },
  {
   "cell_type": "markdown",
   "id": "c8251535-b2e5-40a0-8fe7-cef0a2b551d7",
   "metadata": {},
   "source": [
    "For backscatter data (40m):"
   ]
  },
  {
   "cell_type": "code",
   "execution_count": 7,
   "id": "4010d49e-f019-43be-b042-6afa564fdeea",
   "metadata": {
    "tags": []
   },
   "outputs": [
    {
     "data": {
      "text/plain": [
       "'data/IE_GSI_MI_Backscatter_40m_Offshore_IE_WGS84_LAT_TIFF.zip'"
      ]
     },
     "execution_count": 7,
     "metadata": {},
     "output_type": "execute_result"
    }
   ],
   "source": [
    "download_file('https://gsi.geodata.gov.ie/downloads/Marine/Data/Downloads/LatestEntireAreaMerge/IE_GSI_MI_Backscatter_40m_Offshore_IE_WGS84_LAT_TIFF.zip')"
   ]
  },
  {
   "cell_type": "code",
   "execution_count": 3,
   "id": "39496bc1-65c0-4b72-aa46-6078780a7a41",
   "metadata": {
    "tags": []
   },
   "outputs": [
    {
     "data": {
      "text/plain": [
       "'data/IE_GSI_MI_Bathymetry_100m_Offshore_IE_WGS84_LAT_TIFF.zip'"
      ]
     },
     "execution_count": 3,
     "metadata": {},
     "output_type": "execute_result"
    }
   ],
   "source": [
    "download_file('https://gsi.geodata.gov.ie/downloads/Marine/Data/Downloads/LatestEntireAreaMerge/IE_GSI_MI_Bathymetry_100m_Offshore_IE_WGS84_LAT_TIFF.zip')"
   ]
  },
  {
   "cell_type": "markdown",
   "id": "9d6cee34-af79-4059-b624-cf6e84859cd9",
   "metadata": {},
   "source": [
    "## Extract zip files"
   ]
  },
  {
   "cell_type": "code",
   "execution_count": 2,
   "id": "bcbe1503-21f4-4ff4-b8ce-35c02c9622e7",
   "metadata": {
    "tags": []
   },
   "outputs": [],
   "source": [
    "import zipfile"
   ]
  },
  {
   "cell_type": "code",
   "execution_count": 5,
   "id": "e1c23560-c2f4-464b-86ed-faca42cef901",
   "metadata": {
    "tags": []
   },
   "outputs": [],
   "source": [
    "# make directories to store geotiff images\n",
    "if not os.path.exists('data/bathymetry/'):\n",
    "    os.makedirs('data/bathymetry/')\n",
    "    \n",
    "if not os.path.exists('data/backscatter/'):\n",
    "    os.makedirs('data/backscatter/')"
   ]
  },
  {
   "cell_type": "code",
   "execution_count": 13,
   "id": "1aca17de-b0c0-4a43-accc-1d7217c29039",
   "metadata": {
    "tags": []
   },
   "outputs": [
    {
     "name": "stdout",
     "output_type": "stream",
     "text": [
      "Archive:  data/IE_GSI_MI_Backscatter_40m_Offshore_IE_WGS84_LAT_TIFF.zip\n",
      "  inflating: data/backscatter/IE_GSI_MI_Backscatter_40m_Offshore_IE_WGS84_LAT_TIFF.tfw  \n",
      "  inflating: data/backscatter/IE_GSI_MI_Backscatter_40m_Offshore_IE_WGS84_LAT_TIFF.tif  \n",
      "  inflating: data/backscatter/IE_GSI_MI_Backscatter_40m_Offshore_IE_WGS84_LAT_TIFF.tif.aux.xml  \n",
      "  inflating: data/backscatter/IE_GSI_MI_Backscatter_40m_Offshore_IE_WGS84_LAT_TIFF.tif.ovr  \n",
      "  inflating: data/backscatter/IE_GSI_MI_Backscatter_40m_Offshore_IE_WGS84_LAT_TIFF.tif.xml  \n"
     ]
    }
   ],
   "source": [
    "! unzip data/IE_GSI_MI_Backscatter_40m_Offshore_IE_WGS84_LAT_TIFF.zip -d data/backscatter/"
   ]
  },
  {
   "cell_type": "code",
   "execution_count": 4,
   "id": "617b2cdb-051a-4d5e-825b-df9bacc91a86",
   "metadata": {
    "tags": []
   },
   "outputs": [
    {
     "name": "stdout",
     "output_type": "stream",
     "text": [
      "Archive:  data/IE_GSI_MI_Bathymetry_100m_Offshore_IE_WGS84_LAT_TIFF.zip\n",
      "  inflating: data/bathymetry/IE_GSI_MI_Bathymetry_100m_Offshore_IE_WGS84_LAT_TIFF.tfw  \n",
      "  inflating: data/bathymetry/IE_GSI_MI_Bathymetry_100m_Offshore_IE_WGS84_LAT_TIFF.tif  \n",
      "  inflating: data/bathymetry/IE_GSI_MI_Bathymetry_100m_Offshore_IE_WGS84_LAT_TIFF.tif.aux.xml  \n",
      "  inflating: data/bathymetry/IE_GSI_MI_Bathymetry_100m_Offshore_IE_WGS84_LAT_TIFF.tif.ovr  \n",
      "  inflating: data/bathymetry/IE_GSI_MI_Bathymetry_100m_Offshore_IE_WGS84_LAT_TIFF.tif.xml  \n"
     ]
    }
   ],
   "source": [
    "! unzip data/IE_GSI_MI_Bathymetry_100m_Offshore_IE_WGS84_LAT_TIFF.zip -d data/bathymetry/"
   ]
  },
  {
   "cell_type": "code",
   "execution_count": null,
   "id": "76570107-c29d-45b5-ac57-4ea5ef14cfb4",
   "metadata": {},
   "outputs": [],
   "source": []
  }
 ],
 "metadata": {
  "kernelspec": {
   "display_name": "Python [conda env:root] *",
   "language": "python",
   "name": "conda-root-py"
  },
  "language_info": {
   "codemirror_mode": {
    "name": "ipython",
    "version": 3
   },
   "file_extension": ".py",
   "mimetype": "text/x-python",
   "name": "python",
   "nbconvert_exporter": "python",
   "pygments_lexer": "ipython3",
   "version": "3.9.16"
  }
 },
 "nbformat": 4,
 "nbformat_minor": 5
}
