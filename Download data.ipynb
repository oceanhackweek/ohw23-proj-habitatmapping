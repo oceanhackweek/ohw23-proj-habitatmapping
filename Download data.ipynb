{
 "cells": [
  {
   "cell_type": "markdown",
   "id": "829210bb-d690-4f60-8034-c774fee1cd70",
   "metadata": {},
   "source": [
    "# Get bathymetry/backscatter data"
   ]
  },
  {
   "cell_type": "code",
   "execution_count": 2,
   "id": "20ed6818-13c5-41a1-9f7b-0ea54c51aa57",
   "metadata": {
    "tags": []
   },
   "outputs": [],
   "source": [
    "import shutil, os, html, requests"
   ]
  },
  {
   "cell_type": "code",
   "execution_count": 2,
   "id": "aa87b080-bcd6-407f-98bd-d0b99f39c2c4",
   "metadata": {
    "tags": []
   },
   "outputs": [],
   "source": [
    "def download_file(url):\n",
    "    local_filename = os.path.join('data',url.split('/')[-1])\n",
    "    with requests.get(url, stream=True) as r:\n",
    "        with open(local_filename, 'wb') as f:\n",
    "            shutil.copyfileobj(r.raw, f)\n",
    "\n",
    "    return local_filename"
   ]
  },
  {
   "cell_type": "markdown",
   "id": "1b13751a-ce85-4f9e-9cc8-48c0a2c3e150",
   "metadata": {},
   "source": [
    "For bathymetry data (25m): (damaged zip file?)"
   ]
  },
  {
   "cell_type": "code",
   "execution_count": 11,
   "id": "f92a57d8-309f-49e6-9910-d676d25a3405",
   "metadata": {
    "tags": []
   },
   "outputs": [
    {
     "data": {
      "text/plain": [
       "'data/IE_GSI_MI_Bathymetry_25m_IE_Waters_WGS84_LAT_TIFF.zip'"
      ]
     },
     "execution_count": 11,
     "metadata": {},
     "output_type": "execute_result"
    }
   ],
   "source": [
    "download_file('https://gsi.geodata.gov.ie/downloads/Marine/Data/Downloads/LatestEntireAreaMerge/IE_GSI_MI_Bathymetry_25m_IE_Waters_WGS84_LAT_TIFF.zip')"
   ]
  },
  {
   "cell_type": "markdown",
   "id": "c8251535-b2e5-40a0-8fe7-cef0a2b551d7",
   "metadata": {},
   "source": [
    "For backscatter data (40m):"
   ]
  },
  {
   "cell_type": "code",
   "execution_count": 7,
   "id": "4010d49e-f019-43be-b042-6afa564fdeea",
   "metadata": {
    "tags": []
   },
   "outputs": [
    {
     "data": {
      "text/plain": [
       "'data/IE_GSI_MI_Backscatter_40m_Offshore_IE_WGS84_LAT_TIFF.zip'"
      ]
     },
     "execution_count": 7,
     "metadata": {},
     "output_type": "execute_result"
    }
   ],
   "source": [
    "download_file('https://gsi.geodata.gov.ie/downloads/Marine/Data/Downloads/LatestEntireAreaMerge/IE_GSI_MI_Backscatter_40m_Offshore_IE_WGS84_LAT_TIFF.zip')"
   ]
  },
  {
   "cell_type": "code",
   "execution_count": 3,
   "id": "39496bc1-65c0-4b72-aa46-6078780a7a41",
   "metadata": {
    "tags": []
   },
   "outputs": [
    {
     "data": {
      "text/plain": [
       "'data/IE_GSI_MI_Bathymetry_100m_Offshore_IE_WGS84_LAT_TIFF.zip'"
      ]
     },
     "execution_count": 3,
     "metadata": {},
     "output_type": "execute_result"
    }
   ],
   "source": [
    "download_file('https://gsi.geodata.gov.ie/downloads/Marine/Data/Downloads/LatestEntireAreaMerge/IE_GSI_MI_Bathymetry_100m_Offshore_IE_WGS84_LAT_TIFF.zip')"
   ]
  },
  {
   "cell_type": "markdown",
   "id": "9d6cee34-af79-4059-b624-cf6e84859cd9",
   "metadata": {},
   "source": [
    "## Extract zip files"
   ]
  },
  {
   "cell_type": "code",
   "execution_count": 2,
   "id": "bcbe1503-21f4-4ff4-b8ce-35c02c9622e7",
   "metadata": {
    "tags": []
   },
   "outputs": [],
   "source": [
    "import zipfile"
   ]
  },
  {
   "cell_type": "code",
   "execution_count": 5,
   "id": "e1c23560-c2f4-464b-86ed-faca42cef901",
   "metadata": {
    "tags": []
   },
   "outputs": [],
   "source": [
    "# make directories to store geotiff images\n",
    "if not os.path.exists('data/bathymetry/'):\n",
    "    os.makedirs('data/bathymetry/')\n",
    "    \n",
    "if not os.path.exists('data/backscatter/'):\n",
    "    os.makedirs('data/backscatter/')"
   ]
  },
  {
   "cell_type": "code",
   "execution_count": 13,
   "id": "1aca17de-b0c0-4a43-accc-1d7217c29039",
   "metadata": {
    "tags": []
   },
   "outputs": [
    {
     "name": "stdout",
     "output_type": "stream",
     "text": [
      "Archive:  data/IE_GSI_MI_Backscatter_40m_Offshore_IE_WGS84_LAT_TIFF.zip\n",
      "  inflating: data/backscatter/IE_GSI_MI_Backscatter_40m_Offshore_IE_WGS84_LAT_TIFF.tfw  \n",
      "  inflating: data/backscatter/IE_GSI_MI_Backscatter_40m_Offshore_IE_WGS84_LAT_TIFF.tif  \n",
      "  inflating: data/backscatter/IE_GSI_MI_Backscatter_40m_Offshore_IE_WGS84_LAT_TIFF.tif.aux.xml  \n",
      "  inflating: data/backscatter/IE_GSI_MI_Backscatter_40m_Offshore_IE_WGS84_LAT_TIFF.tif.ovr  \n",
      "  inflating: data/backscatter/IE_GSI_MI_Backscatter_40m_Offshore_IE_WGS84_LAT_TIFF.tif.xml  \n"
     ]
    }
   ],
   "source": [
    "! unzip data/IE_GSI_MI_Backscatter_40m_Offshore_IE_WGS84_LAT_TIFF.zip -d data/backscatter/"
   ]
  },
  {
   "cell_type": "code",
   "execution_count": 4,
   "id": "617b2cdb-051a-4d5e-825b-df9bacc91a86",
   "metadata": {
    "tags": []
   },
   "outputs": [
    {
     "name": "stdout",
     "output_type": "stream",
     "text": [
      "Archive:  data/IE_GSI_MI_Bathymetry_100m_Offshore_IE_WGS84_LAT_TIFF.zip\n",
      "  inflating: data/bathymetry/IE_GSI_MI_Bathymetry_100m_Offshore_IE_WGS84_LAT_TIFF.tfw  \n",
      "  inflating: data/bathymetry/IE_GSI_MI_Bathymetry_100m_Offshore_IE_WGS84_LAT_TIFF.tif  \n",
      "  inflating: data/bathymetry/IE_GSI_MI_Bathymetry_100m_Offshore_IE_WGS84_LAT_TIFF.tif.aux.xml  \n",
      "  inflating: data/bathymetry/IE_GSI_MI_Bathymetry_100m_Offshore_IE_WGS84_LAT_TIFF.tif.ovr  \n",
      "  inflating: data/bathymetry/IE_GSI_MI_Bathymetry_100m_Offshore_IE_WGS84_LAT_TIFF.tif.xml  \n"
     ]
    }
   ],
   "source": [
    "! unzip data/IE_GSI_MI_Bathymetry_100m_Offshore_IE_WGS84_LAT_TIFF.zip -d data/bathymetry/"
   ]
  },
  {
   "cell_type": "markdown",
   "id": "b2e8a8f6-a142-4cd0-b6ff-f23885700185",
   "metadata": {},
   "source": [
    "## Stream data from Google Drive\n",
    "\n",
    "Some of our data cannot be extracted directly on JupyterLab, so we want to resolve them first locally, then upload to Drive (instead of JupyterLab itself since it's painstakingly slow). We also want to convert the GEOTIFF files to netcdf files to work with the machine learning models later, so that's another plus."
   ]
  },
  {
   "cell_type": "code",
   "execution_count": 5,
   "id": "1b08a6a6-f216-4bc9-a449-1c52324fd497",
   "metadata": {
    "tags": []
   },
   "outputs": [
    {
     "name": "stdout",
     "output_type": "stream",
     "text": [
      "Defaulting to user installation because normal site-packages is not writeable\n",
      "Collecting gdown\n",
      "  Downloading gdown-4.7.1-py3-none-any.whl (15 kB)\n",
      "Requirement already satisfied: beautifulsoup4 in /opt/conda/lib/python3.9/site-packages (from gdown) (4.12.2)\n",
      "Requirement already satisfied: requests[socks] in /opt/conda/lib/python3.9/site-packages (from gdown) (2.31.0)\n",
      "Requirement already satisfied: filelock in /opt/conda/lib/python3.9/site-packages (from gdown) (3.12.2)\n",
      "Requirement already satisfied: six in /opt/conda/lib/python3.9/site-packages (from gdown) (1.16.0)\n",
      "Requirement already satisfied: tqdm in /opt/conda/lib/python3.9/site-packages (from gdown) (4.65.0)\n",
      "Requirement already satisfied: soupsieve>1.2 in /opt/conda/lib/python3.9/site-packages (from beautifulsoup4->gdown) (2.3.2.post1)\n",
      "Requirement already satisfied: charset-normalizer<4,>=2 in /opt/conda/lib/python3.9/site-packages (from requests[socks]->gdown) (3.2.0)\n",
      "Requirement already satisfied: certifi>=2017.4.17 in /opt/conda/lib/python3.9/site-packages (from requests[socks]->gdown) (2023.7.22)\n",
      "Requirement already satisfied: urllib3<3,>=1.21.1 in /opt/conda/lib/python3.9/site-packages (from requests[socks]->gdown) (1.26.15)\n",
      "Requirement already satisfied: idna<4,>=2.5 in /opt/conda/lib/python3.9/site-packages (from requests[socks]->gdown) (3.4)\n",
      "Requirement already satisfied: PySocks!=1.5.7,>=1.5.6 in /opt/conda/lib/python3.9/site-packages (from requests[socks]->gdown) (1.7.1)\n",
      "Installing collected packages: gdown\n",
      "\u001b[33m  WARNING: The script gdown is installed in '/home/jovyan/.local/bin' which is not on PATH.\n",
      "  Consider adding this directory to PATH or, if you prefer to suppress this warning, use --no-warn-script-location.\u001b[0m\n",
      "Successfully installed gdown-4.7.1\n"
     ]
    }
   ],
   "source": [
    "! pip install gdown"
   ]
  },
  {
   "cell_type": "code",
   "execution_count": 6,
   "id": "dc95e969-398e-48da-b408-98063d081c5c",
   "metadata": {
    "tags": []
   },
   "outputs": [],
   "source": [
    "import gdown"
   ]
  },
  {
   "cell_type": "markdown",
   "id": "e0d6515d-cb6e-4c2f-b3a8-18d090c41cef",
   "metadata": {},
   "source": [
    "What we are about to do:\n",
    "1. Open sharing for the file we want to download and set it to public access (anyone with the link can view), then copy the link\n",
    "\n",
    "The link may look like this: \"https://drive.google.com/file/d/1ddy4s33lzBumYcEjg45M8uf4TQZn1Xce/view?usp=sharing.\" We are going to copy the ID of the file, which is the part between 'd/' and '/view...'.\n",
    "\n",
    "2. Create URL for gdown to download file with template below, then use gdown to download file"
   ]
  },
  {
   "cell_type": "code",
   "execution_count": 7,
   "id": "c79663d7-a373-4192-b0d9-85feec0410e8",
   "metadata": {
    "tags": []
   },
   "outputs": [],
   "source": [
    "file_id = '1ddy4s33lzBumYcEjg45M8uf4TQZn1Xce'\n",
    "url = f'https://drive.google.com/uc?id={file_id}'"
   ]
  },
  {
   "cell_type": "code",
   "execution_count": 8,
   "id": "cad7c27e-89f8-47a1-8baa-81ab31176c93",
   "metadata": {
    "tags": []
   },
   "outputs": [
    {
     "data": {
      "text/plain": [
       "'https://drive.google.com/uc?id=1ddy4s33lzBumYcEjg45M8uf4TQZn1Xce'"
      ]
     },
     "execution_count": 8,
     "metadata": {},
     "output_type": "execute_result"
    }
   ],
   "source": [
    "url"
   ]
  },
  {
   "cell_type": "code",
   "execution_count": 9,
   "id": "d5f1200c-2d65-47d0-b5e4-ff773d0fc76f",
   "metadata": {
    "tags": []
   },
   "outputs": [],
   "source": [
    "output = 'data/sth.nc'"
   ]
  },
  {
   "cell_type": "code",
   "execution_count": 10,
   "id": "d233bb04-f31c-4c02-8e39-763b982e3963",
   "metadata": {
    "tags": []
   },
   "outputs": [
    {
     "name": "stderr",
     "output_type": "stream",
     "text": [
      "Downloading...\n",
      "From (uriginal): https://drive.google.com/uc?id=1ddy4s33lzBumYcEjg45M8uf4TQZn1Xce\n",
      "From (redirected): https://drive.google.com/uc?id=1ddy4s33lzBumYcEjg45M8uf4TQZn1Xce&confirm=t&uuid=62767d37-8724-4b2d-966c-2b1471e1f579\n",
      "To: /home/jovyan/ohw23-proj-habitatmapping/data/sth.nc\n",
      "100%|██████████| 681M/681M [00:05<00:00, 122MB/s] \n"
     ]
    },
    {
     "data": {
      "text/plain": [
       "'data/sth.nc'"
      ]
     },
     "execution_count": 10,
     "metadata": {},
     "output_type": "execute_result"
    }
   ],
   "source": [
    "gdown.download(url, output, quiet=False)"
   ]
  },
  {
   "cell_type": "markdown",
   "id": "9cece9ff-4a52-4076-93e4-2a029f11ad12",
   "metadata": {},
   "source": [
    "The file `sth.nc` is one of the data files we are working on..."
   ]
  },
  {
   "cell_type": "markdown",
   "id": "f218a26b-6f60-4f08-9afe-d639470c8394",
   "metadata": {},
   "source": [
    "Process the rest of the netcdf4 files the same way"
   ]
  },
  {
   "cell_type": "code",
   "execution_count": 12,
   "id": "ec69d5a6-e9c9-4789-a95f-1c8a428fd36d",
   "metadata": {
    "tags": []
   },
   "outputs": [],
   "source": [
    "URLs = {\n",
    "'bathymetry_10': 'https://drive.google.com/file/d/16XyhnPwIfabtffUKwnM_ERJfxRqiPTK8/view?usp=sharing',\n",
    "'backscatter_10': 'https://drive.google.com/file/d/1uR9ZMjbzb4msAPUw-W52tjuRVtllGpGY/view?usp=sharing'\n",
    "}"
   ]
  },
  {
   "cell_type": "code",
   "execution_count": 13,
   "id": "17fc70fd-7b15-403f-a3dc-890b6966a479",
   "metadata": {
    "tags": []
   },
   "outputs": [
    {
     "name": "stderr",
     "output_type": "stream",
     "text": [
      "Downloading...\n",
      "From (uriginal): https://drive.google.com/uc?id=1ddy4s33lzBumYcEjg45M8uf4TQZn1Xce\n",
      "From (redirected): https://drive.google.com/uc?id=1ddy4s33lzBumYcEjg45M8uf4TQZn1Xce&confirm=t&uuid=c1c9b67a-412d-43b7-8a89-26b364d0e322\n",
      "To: /home/jovyan/ohw23-proj-habitatmapping/data/bathymetry_10.nc\n",
      "100%|██████████| 681M/681M [00:04<00:00, 141MB/s] \n",
      "Downloading...\n",
      "From (uriginal): https://drive.google.com/uc?id=1ddy4s33lzBumYcEjg45M8uf4TQZn1Xce\n",
      "From (redirected): https://drive.google.com/uc?id=1ddy4s33lzBumYcEjg45M8uf4TQZn1Xce&confirm=t&uuid=4350af80-53a6-46ef-aa69-803c8abf2bd3\n",
      "To: /home/jovyan/ohw23-proj-habitatmapping/data/backscatter_10.nc\n",
      "100%|██████████| 681M/681M [00:03<00:00, 226MB/s] \n"
     ]
    }
   ],
   "source": [
    "for file_name, URL in URLs.items():\n",
    "    # get file ID\n",
    "    file_id = URL.split('/')[-2]\n",
    "    print(file_id)\n",
    "    download_url = f'https://drive.google.com/uc?id={file_id}'\n",
    "    \n",
    "    output = os.path.join('data/', f'{file_name}.nc')\n",
    "    gdown.download(url, output, quiet=False)"
   ]
  },
  {
   "cell_type": "code",
   "execution_count": null,
   "id": "48a4def5-9953-440d-a777-8f2ca2c20159",
   "metadata": {},
   "outputs": [],
   "source": []
  }
 ],
 "metadata": {
  "kernelspec": {
   "display_name": "Python 3 (ipykernel)",
   "language": "python",
   "name": "python3"
  },
  "language_info": {
   "codemirror_mode": {
    "name": "ipython",
    "version": 3
   },
   "file_extension": ".py",
   "mimetype": "text/x-python",
   "name": "python",
   "nbconvert_exporter": "python",
   "pygments_lexer": "ipython3",
   "version": "3.9.16"
  }
 },
 "nbformat": 4,
 "nbformat_minor": 5
}
