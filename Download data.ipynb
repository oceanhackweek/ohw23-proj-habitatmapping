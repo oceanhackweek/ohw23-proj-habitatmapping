{
 "cells": [
  {
   "cell_type": "markdown",
   "id": "829210bb-d690-4f60-8034-c774fee1cd70",
   "metadata": {},
   "source": [
    "Get bathymetry/backscatter data without downloading data locally to computer"
   ]
  },
  {
   "cell_type": "code",
   "execution_count": 4,
   "id": "20ed6818-13c5-41a1-9f7b-0ea54c51aa57",
   "metadata": {
    "tags": []
   },
   "outputs": [],
   "source": [
    "import shutil, os, html, requests"
   ]
  },
  {
   "cell_type": "code",
   "execution_count": 5,
   "id": "aa87b080-bcd6-407f-98bd-d0b99f39c2c4",
   "metadata": {
    "tags": []
   },
   "outputs": [],
   "source": [
    "def download_file(url):\n",
    "    local_filename = os.path.join('data',url.split('/')[-1])\n",
    "    with requests.get(url, stream=True) as r:\n",
    "        with open(local_filename, 'wb') as f:\n",
    "            shutil.copyfileobj(r.raw, f)\n",
    "\n",
    "    return local_filename"
   ]
  },
  {
   "cell_type": "markdown",
   "id": "1b13751a-ce85-4f9e-9cc8-48c0a2c3e150",
   "metadata": {},
   "source": [
    "For bathymetry data (25m):"
   ]
  },
  {
   "cell_type": "code",
   "execution_count": null,
   "id": "f92a57d8-309f-49e6-9910-d676d25a3405",
   "metadata": {
    "tags": []
   },
   "outputs": [],
   "source": [
    "download_file('https://gsi.geodata.gov.ie/downloads/Marine/Data/Downloads/LatestEntireAreaMerge/IE_GSI_MI_Bathymetry_25m_IE_Waters_WGS84_LAT_TIFF.zip')"
   ]
  },
  {
   "cell_type": "markdown",
   "id": "c8251535-b2e5-40a0-8fe7-cef0a2b551d7",
   "metadata": {},
   "source": [
    "For backscatter data (40m):"
   ]
  },
  {
   "cell_type": "code",
   "execution_count": null,
   "id": "4010d49e-f019-43be-b042-6afa564fdeea",
   "metadata": {},
   "outputs": [],
   "source": [
    "download_file('https://gsi.geodata.gov.ie/downloads/Marine/Data/Downloads/LatestEntireAreaMerge/IE_GSI_MI_Backscatter_40m_Offshore_IE_WGS84_LAT_TIFF.zip')"
   ]
  }
 ],
 "metadata": {
  "kernelspec": {
   "display_name": "Python 3 (ipykernel)",
   "language": "python",
   "name": "python3"
  },
  "language_info": {
   "codemirror_mode": {
    "name": "ipython",
    "version": 3
   },
   "file_extension": ".py",
   "mimetype": "text/x-python",
   "name": "python",
   "nbconvert_exporter": "python",
   "pygments_lexer": "ipython3",
   "version": "3.9.16"
  }
 },
 "nbformat": 4,
 "nbformat_minor": 5
}
